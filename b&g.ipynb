{
 "cells": [
  {
   "cell_type": "code",
   "execution_count": 1,
   "metadata": {},
   "outputs": [
    {
     "name": "stdout",
     "output_type": "stream",
     "text": [
      "идеальная пара:\n",
      "Alex и Emma\n",
      "Arthur и Kate\n",
      "John и Kira\n",
      "Peter и Liza\n",
      "Richard и Trisha\n"
     ]
    }
   ],
   "source": [
    "boys = ['Peter','Alex', 'John', 'Arthur', 'Richard']\n",
    "girls = ['Kate', 'Liza', 'Kira', 'Emma', 'Trisha']\n",
    "if len(boys)==len(girls):\n",
    "    print('идеальная пара:')\n",
    "    boys.sort()\n",
    "    girls.sort()\n",
    "    dating = zip(boys, girls)\n",
    "    for company in dating:\n",
    "        print(f'{company[0]} и {company[1]}')\n",
    "else:\n",
    "    print('внимание! кто-то может остаться без пары')\n"
   ]
  },
  {
   "cell_type": "code",
   "execution_count": 3,
   "metadata": {},
   "outputs": [
    {
     "name": "stdout",
     "output_type": "stream",
     "text": [
      "внимание! кто-то может остаться без пары\n"
     ]
    }
   ],
   "source": [
    "boys = ['Peter','Alex', 'John', 'Arthur', 'Richard', 'Michael']\n",
    "girls = ['Kate', 'Liza', 'Kira', 'Emma', 'Trisha']\n",
    "if len(boys)==len(girls):\n",
    "    print('идеальная пара:')\n",
    "    boys.sort()\n",
    "    girls.sort()\n",
    "    dating = zip(boys, girls)\n",
    "    for company in dating:\n",
    "        print(f'{company[0]} и {company[1]}')\n",
    "else:\n",
    "    print('внимание! кто-то может остаться без пары')"
   ]
  }
 ],
 "metadata": {
  "kernelspec": {
   "display_name": "Python 3",
   "language": "python",
   "name": "python3"
  },
  "language_info": {
   "codemirror_mode": {
    "name": "ipython",
    "version": 3
   },
   "file_extension": ".py",
   "mimetype": "text/x-python",
   "name": "python",
   "nbconvert_exporter": "python",
   "pygments_lexer": "ipython3",
   "version": "3.8.5"
  }
 },
 "nbformat": 4,
 "nbformat_minor": 4
}
