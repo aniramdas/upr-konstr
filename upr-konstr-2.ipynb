{
 "cells": [
  {
   "cell_type": "markdown",
   "metadata": {},
   "source": [
    "Задание 1"
   ]
  },
  {
   "cell_type": "code",
   "execution_count": 2,
   "metadata": {},
   "outputs": [
    {
     "name": "stdout",
     "output_type": "stream",
     "text": [
      "{98, 35, 15, 213, 54, 119}\n"
     ]
    }
   ],
   "source": [
    "ids = {'user1': [213, 213, 213, 15, 213], \n",
    "       'user2': [54, 54, 119, 119, 119], \n",
    "       'user3': [213, 98, 98, 35]}\n",
    "\n",
    "ids_conc = []\n",
    "for user in ids:\n",
    "    for i in ids[user]:\n",
    "        ids_conc.append(i)\n",
    "ids_unique = set(ids_conc)\n",
    "print(ids_unique)"
   ]
  },
  {
   "cell_type": "markdown",
   "metadata": {},
   "source": [
    "Задание 2"
   ]
  },
  {
   "cell_type": "code",
   "execution_count": 4,
   "metadata": {},
   "outputs": [],
   "source": [
    "queries = [\n",
    "    'смотреть сериалы онлайн',\n",
    "    'новости спорта',\n",
    "    'афиша кино',\n",
    "    'курс доллара',\n",
    "    'сериалы этим летом',\n",
    "    'курс по питону',\n",
    "    'сериалы про спорт',\n",
    "]"
   ]
  },
  {
   "cell_type": "code",
   "execution_count": 8,
   "metadata": {},
   "outputs": [
    {
     "name": "stdout",
     "output_type": "stream",
     "text": [
      "поисковых запросов, содержащих 3 слов(а): 57.142857142857146 %\n",
      "поисковых запросов, содержащих 2 слов(а): 42.85714285714286 %\n"
     ]
    }
   ],
   "source": [
    "slovar = {}\n",
    "for quer in queries: \n",
    "    lengh = len(quer.split()) \n",
    "    if lengh in slovar:\n",
    "        slovar[lengh] += 1\n",
    "    else:\n",
    "        slovar[lengh] = 1\n",
    "n = 100/sum(slovar.values()) \n",
    "for k in slovar:\n",
    "    slovar[k] *= (n)\n",
    "for key, val in slovar.items():\n",
    "    print('поисковых запросов, содержащих', key, 'слов(а):', val,'%')"
   ]
  },
  {
   "cell_type": "markdown",
   "metadata": {},
   "source": [
    "Задание 3"
   ]
  },
  {
   "cell_type": "code",
   "execution_count": 9,
   "metadata": {},
   "outputs": [],
   "source": [
    "results = {\n",
    "    'vk': {'revenue': 103, 'cost': 98},\n",
    "    'yandex': {'revenue': 179, 'cost': 153},\n",
    "    'facebook': {'revenue': 103, 'cost': 110},\n",
    "    'adwords': {'revenue': 35, 'cost': 34},\n",
    "    'twitter': {'revenue': 11, 'cost': 24},\n",
    "}"
   ]
  },
  {
   "cell_type": "code",
   "execution_count": 13,
   "metadata": {},
   "outputs": [
    {
     "name": "stdout",
     "output_type": "stream",
     "text": [
      "{'adwords': {'cost': 34, 'revenue': 35, 'ROI': 2.94}\n",
      "'facebook': {'cost': 110, 'revenue': 103, 'ROI': -6.36}\n",
      "'twitter': {'cost': 24, 'revenue': 11, 'ROI': -54.17}\n",
      "'vk': {'cost': 98, 'revenue': 103, 'ROI': 5.1}\n",
      "'yandex': {'cost': 153, 'revenue': 179, 'ROI': 16.99}}\n"
     ]
    }
   ],
   "source": [
    "print('{', end='')\n",
    "keys = sorted(results.keys())\n",
    "num_of_elements = len(keys)\n",
    "for key in keys:\n",
    "    results[key]['ROI'] = round((results[key]['revenue'] / results[key]['cost'] -1) * 100, 2)\n",
    "    if keys.index(key) == num_of_elements - 1:\n",
    "        eoline = '}'\n",
    "    else:\n",
    "        eoline = ''\n",
    "    print(\n",
    "        f\"'{key}': \" + \n",
    "        '{' + f\"'cost': {results[key]['cost']}, 'revenue': {results[key]['revenue']}, 'ROI': {results[key]['ROI']}\" + \n",
    "        '}' + \n",
    "        eoline\n",
    "    )"
   ]
  },
  {
   "cell_type": "markdown",
   "metadata": {},
   "source": [
    "Задание 4"
   ]
  },
  {
   "cell_type": "code",
   "execution_count": 14,
   "metadata": {},
   "outputs": [],
   "source": [
    "stats = {'facebook': 55, 'yandex': 115, 'vk': 120, 'google': 99, 'email': 42, 'ok': 98}"
   ]
  },
  {
   "cell_type": "code",
   "execution_count": 15,
   "metadata": {},
   "outputs": [
    {
     "name": "stdout",
     "output_type": "stream",
     "text": [
      "максимальный объем продаж на рекламном канале:  vk\n"
     ]
    }
   ],
   "source": [
    "max_value = 0\n",
    "key_max = str()\n",
    "for key, vl in stats.items():\n",
    "    if (vl > max_value):\n",
    "        max_value = vl\n",
    "        key_max = key\n",
    "print('максимальный объем продаж на рекламном канале: ',key_max)"
   ]
  },
  {
   "cell_type": "markdown",
   "metadata": {},
   "source": [
    "Задание 5"
   ]
  },
  {
   "cell_type": "code",
   "execution_count": 16,
   "metadata": {},
   "outputs": [],
   "source": [
    "my_list = ['a', 'b', 'c', 'd', 'e', 'f']"
   ]
  },
  {
   "cell_type": "code",
   "execution_count": 17,
   "metadata": {},
   "outputs": [
    {
     "name": "stdout",
     "output_type": "stream",
     "text": [
      "{'a': {'b': {'c': {'d': {'e': 'f'}}}}}\n"
     ]
    }
   ],
   "source": [
    "n = len(my_list) - 1\n",
    "dict_last = {my_list[n-1]: my_list[n]}\n",
    "while n > 1:\n",
    "    dict_result = {my_list[n-2]: dict_last}\n",
    "    dict_last = dict_result\n",
    "    n -= 1\n",
    "print(dict_result)"
   ]
  },
  {
   "cell_type": "markdown",
   "metadata": {},
   "source": [
    "Задание 6"
   ]
  },
  {
   "cell_type": "code",
   "execution_count": 18,
   "metadata": {},
   "outputs": [],
   "source": [
    "cook_book = {\n",
    "  'салат': [\n",
    "     {'ingridient_name': 'сыр', 'quantity': 50, 'measure': 'гр'},\n",
    "     {'ingridient_name': 'томаты', 'quantity': 2, 'measure': 'шт'},\n",
    "     {'ingridient_name': 'огурцы', 'quantity': 20, 'measure': 'гр'},\n",
    "     {'ingridient_name': 'маслины', 'quantity': 10, 'measure': 'гр'},\n",
    "     {'ingridient_name': 'оливковое масло', 'quantity': 20, 'measure': 'мл'},\n",
    "     {'ingridient_name': 'салат', 'quantity': 10, 'measure': 'гр'},\n",
    "     {'ingridient_name': 'перец', 'quantity': 20, 'measure': 'гр'}\n",
    "    ],\n",
    "  'пицца': [\n",
    "     {'ingridient_name': 'сыр', 'quantity': 20, 'measure': 'гр'},\n",
    "     {'ingridient_name': 'колбаса', 'quantity': 30, 'measure': 'гр'},\n",
    "     {'ingridient_name': 'бекон', 'quantity': 30, 'measure': 'гр'},\n",
    "     {'ingridient_name': 'оливки', 'quantity': 10, 'measure': 'гр'},\n",
    "     {'ingridient_name': 'томаты', 'quantity': 20, 'measure': 'гр'},\n",
    "     {'ingridient_name': 'тесто', 'quantity': 100, 'measure': 'гр'},\n",
    "      {'ingridient_name': 'маслины', 'quantity': 10, 'measure': 'шт'},\n",
    "    ],\n",
    "  'лимонад': [\n",
    "     {'ingridient_name': 'лимон', 'quantity': 1, 'measure': 'шт'},\n",
    "     {'ingridient_name': 'вода', 'quantity': 200, 'measure': 'мл'},\n",
    "     {'ingridient_name': 'сахар', 'quantity': 10, 'measure': 'гр'},\n",
    "     {'ingridient_name': 'лайм', 'quantity': 20, 'measure': 'гр'},    \n",
    "    ]\n",
    "}"
   ]
  },
  {
   "cell_type": "code",
   "execution_count": 19,
   "metadata": {},
   "outputs": [
    {
     "name": "stdout",
     "output_type": "stream",
     "text": [
      "введите количество порций: 4\n",
      "Сыр : 280 гр\n",
      "Томаты : 8 шт\n",
      "Огурцы : 80 гр\n",
      "Маслины : 40 гр\n",
      "Оливковое : 80 масло\n",
      "Салат : 40 гр\n",
      "Перец : 80 гр\n",
      "Колбаса : 120 гр\n",
      "Бекон : 120 гр\n",
      "Оливки : 40 гр\n",
      "Томаты : 80 гр\n",
      "Тесто : 400 гр\n",
      "Маслины : 40 шт\n",
      "Лимон : 4 шт\n",
      "Вода : 800 мл\n",
      "Сахар : 40 гр\n",
      "Лайм : 80 гр\n"
     ]
    }
   ],
   "source": [
    "person = int(input('введите количество порций: '))\n",
    "slovar = {}\n",
    "for vals in cook_book.values():\n",
    "    for vs in vals:\n",
    "        ingrt_nm, qtt, msrr = vs.values()\n",
    "        gnrt_keys = str(ingrt_nm + ' ' + msrr) \n",
    "        if gnrt_keys not in slovar:            \n",
    "            qtt *= person           \n",
    "            slovar[gnrt_keys] = qtt\n",
    "        else :\n",
    "            qtt*=person\n",
    "            slovar[gnrt_keys] += qtt\n",
    "for ks, vls in slovar.items():\n",
    "    query =list(ks.split())\n",
    "    print(query[0].capitalize(), ':', vls, query[1])"
   ]
  }
 ],
 "metadata": {
  "kernelspec": {
   "display_name": "Python 3",
   "language": "python",
   "name": "python3"
  },
  "language_info": {
   "codemirror_mode": {
    "name": "ipython",
    "version": 3
   },
   "file_extension": ".py",
   "mimetype": "text/x-python",
   "name": "python",
   "nbconvert_exporter": "python",
   "pygments_lexer": "ipython3",
   "version": "3.8.5"
  }
 },
 "nbformat": 4,
 "nbformat_minor": 4
}
