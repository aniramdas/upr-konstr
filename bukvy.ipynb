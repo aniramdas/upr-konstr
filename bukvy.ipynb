{
 "cells": [
  {
   "cell_type": "code",
   "execution_count": 6,
   "metadata": {},
   "outputs": [
    {
     "name": "stdout",
     "output_type": "stream",
     "text": [
      "l\n",
      "ii\n",
      "e\n"
     ]
    }
   ],
   "source": [
    "def get_middle(s):\n",
    "    idx = len(s) // 2\n",
    "    if len(s) % 2 == 0:\n",
    "        return s[idx-1:idx+1]\n",
    "    else:\n",
    "        return s[idx]\n",
    "\n",
    "print(get_middle('hello'))\n",
    "print(get_middle('hiii')) \n",
    "print(get_middle('hey'))"
   ]
  },
  {
   "cell_type": "code",
   "execution_count": 7,
   "metadata": {},
   "outputs": [],
   "source": [
    "## не понимаю как сделать иначе"
   ]
  },
  {
   "cell_type": "code",
   "execution_count": null,
   "metadata": {},
   "outputs": [],
   "source": []
  }
 ],
 "metadata": {
  "kernelspec": {
   "display_name": "Python 3",
   "language": "python",
   "name": "python3"
  },
  "language_info": {
   "codemirror_mode": {
    "name": "ipython",
    "version": 3
   },
   "file_extension": ".py",
   "mimetype": "text/x-python",
   "name": "python",
   "nbconvert_exporter": "python",
   "pygments_lexer": "ipython3",
   "version": "3.8.5"
  }
 },
 "nbformat": 4,
 "nbformat_minor": 4
}
