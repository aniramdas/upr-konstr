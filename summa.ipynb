{
 "cells": [
  {
   "cell_type": "code",
   "execution_count": 1,
   "metadata": {},
   "outputs": [
    {
     "name": "stdout",
     "output_type": "stream",
     "text": [
      "ввести число:2\n",
      "ввести число:3\n",
      "ввести число:5\n",
      "ввести число:6\n",
      "ввести число:0\n",
      "сумма равна 16\n"
     ]
    }
   ],
   "source": [
    "s=0\n",
    "while True:\n",
    "    x=int(input('ввести число:'))\n",
    "    if x==0:break\n",
    "    else:s+=x\n",
    "print('сумма равна',s)"
   ]
  },
  {
   "cell_type": "code",
   "execution_count": null,
   "metadata": {},
   "outputs": [],
   "source": [
    "s=0\n",
    "while True:\n",
    "    x=int(input('ввести число:'))\n",
    "    if x==0:break\n",
    "    else:s+=x\n",
    "print('сумма равна',s)"
   ]
  }
 ],
 "metadata": {
  "kernelspec": {
   "display_name": "Python 3",
   "language": "python",
   "name": "python3"
  },
  "language_info": {
   "codemirror_mode": {
    "name": "ipython",
    "version": 3
   },
   "file_extension": ".py",
   "mimetype": "text/x-python",
   "name": "python",
   "nbconvert_exporter": "python",
   "pygments_lexer": "ipython3",
   "version": "3.8.5"
  }
 },
 "nbformat": 4,
 "nbformat_minor": 4
}
